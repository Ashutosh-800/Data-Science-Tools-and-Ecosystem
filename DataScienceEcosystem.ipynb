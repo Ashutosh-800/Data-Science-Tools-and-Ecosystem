{
 "cells": [
  {
   "cell_type": "markdown",
   "id": "aec2292d-9434-47b2-9eb6-902fdb43e702",
   "metadata": {},
   "source": [
    "# Data Science Tools and Ecosystem"
   ]
  },
  {
   "cell_type": "markdown",
   "id": "44743ee8-bc95-4b77-a3bb-6b8022ae7929",
   "metadata": {},
   "source": [
    "In this notebook, Data Science Tools and Ecosystem are summarized."
   ]
  },
  {
   "cell_type": "markdown",
   "id": "e45a6139-2a70-4a7e-ac6a-3f041af3fcc5",
   "metadata": {},
   "source": [
    "**Objectives:**\n",
    "- list of popular languages\n",
    "- list of popular libraries of python for data science\n",
    "- list of open sourse develeopment environments\n",
    "- arithmetic operation\n",
    "- minutes to hour conversion"
   ]
  },
  {
   "cell_type": "markdown",
   "id": "c462703c-8bda-4172-b69b-7449d15232ef",
   "metadata": {},
   "source": [
    "Some of the popular languages that Data Scientists use are:\n",
    "1. Python\n",
    "2. R\n",
    "3. Julia\n",
    "4. Scala"
   ]
  },
  {
   "cell_type": "markdown",
   "id": "be83adcb-710d-4185-b37e-36d4cbf01093",
   "metadata": {},
   "source": [
    "Some of the commonly used libraries used by Data Scientists include:\n",
    "1. PyTorch\n",
    "2. Pandas\n",
    "3. Nummpy\n",
    "4. Scikitlearn\n",
    "5. Matplotlib"
   ]
  },
  {
   "cell_type": "markdown",
   "id": "0baae9c1-3ecf-4d9f-97f8-b4248942dcd5",
   "metadata": {},
   "source": [
    "|Data Science Tools|\n",
    "--------------------\n",
    "|Jupyter Notebook|\n",
    "|Visual Studio Code|\n",
    "|R Studio|"
   ]
  },
  {
   "cell_type": "markdown",
   "id": "cca7f714-7922-4573-8793-f007fcf76245",
   "metadata": {},
   "source": [
    "### Below are a few examples of evaluating arithmetic expressions in Python"
   ]
  },
  {
   "cell_type": "code",
   "execution_count": 18,
   "id": "4a2ee772-d3f0-470e-bd77-127359a00a08",
   "metadata": {},
   "outputs": [
    {
     "data": {
      "text/plain": [
       "17"
      ]
     },
     "execution_count": 18,
     "metadata": {},
     "output_type": "execute_result"
    }
   ],
   "source": [
    "#This a simple arithmetic expression to mutiply then add integers\n",
    "(3*4)+5"
   ]
  },
  {
   "cell_type": "code",
   "execution_count": 20,
   "id": "56df45ce-908f-47bd-8a36-415ee253aa47",
   "metadata": {},
   "outputs": [
    {
     "name": "stdout",
     "output_type": "stream",
     "text": [
      "200 minutes is 3.3333333333333335 hours\n"
     ]
    }
   ],
   "source": [
    "#This will convert 200 minutes to hours by diving by 60\n",
    "x=200/60\n",
    "print(\"200 minutes is\",x,\"hours\")"
   ]
  },
  {
   "cell_type": "markdown",
   "id": "0c81f635-9b42-4e30-89ac-8732d69c725b",
   "metadata": {},
   "source": [
    "## Author\n",
    "Ashutosh dash"
   ]
  },
  {
   "cell_type": "code",
   "execution_count": null,
   "id": "b33d6f7c-af89-4921-acb3-d025c6f15fb7",
   "metadata": {},
   "outputs": [],
   "source": []
  }
 ],
 "metadata": {
  "kernelspec": {
   "display_name": "Python 3 (ipykernel)",
   "language": "python",
   "name": "python3"
  },
  "language_info": {
   "codemirror_mode": {
    "name": "ipython",
    "version": 3
   },
   "file_extension": ".py",
   "mimetype": "text/x-python",
   "name": "python",
   "nbconvert_exporter": "python",
   "pygments_lexer": "ipython3",
   "version": "3.12.4"
  }
 },
 "nbformat": 4,
 "nbformat_minor": 5
}
